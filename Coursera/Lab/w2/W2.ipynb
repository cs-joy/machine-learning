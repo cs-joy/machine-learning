{
 "cells": [
  {
   "cell_type": "markdown",
   "id": "5c4ce72b-01a6-43d1-ab51-14654b3e893c",
   "metadata": {},
   "source": [
    "### Week #2 Lab - Multiple varibale linear regression"
   ]
  },
  {
   "cell_type": "code",
   "execution_count": 3,
   "id": "ee08876e-2cef-40a5-be33-60bce8aba859",
   "metadata": {},
   "outputs": [],
   "source": [
    "import copy, math\n",
    "import numpy as np\n",
    "import matplotlib.pyplot as plt\n",
    "plt.style.use('./deeplearning.mplstyle')\n",
    "np.set_printoptions(precision=2)"
   ]
  },
  {
   "cell_type": "code",
   "execution_count": 4,
   "id": "0b4cbc35-8558-4e82-86ea-ce5bbcd10ef9",
   "metadata": {},
   "outputs": [],
   "source": [
    "X_train = np.array([\n",
    "    [2104, 5, 1, 45],\n",
    "    [1416, 3, 2, 40],\n",
    "    [852, 2, 1, 35]\n",
    "])\n",
    "\n",
    "y_train = np.array([460, 232, 178])"
   ]
  },
  {
   "cell_type": "code",
   "execution_count": 5,
   "id": "6a0f279c-0fb3-48ce-8139-08849aba2423",
   "metadata": {},
   "outputs": [
    {
     "name": "stdout",
     "output_type": "stream",
     "text": [
      "X Shape: (3, 4), X Type: <class 'numpy.ndarray'>\n",
      "[[2104    5    1   45]\n",
      " [1416    3    2   40]\n",
      " [ 852    2    1   35]]\n",
      "y shape: (3,), y Type: <class 'numpy.ndarray'>\n",
      "[460 232 178]\n"
     ]
    }
   ],
   "source": [
    "print(f\"X Shape: {X_train.shape}, X Type: {type(X_train)}\")\n",
    "\n",
    "print(X_train)\n",
    "\n",
    "print(f\"y shape: {y_train.shape}, y Type: {type(y_train)}\")\n",
    "print(y_train)"
   ]
  },
  {
   "cell_type": "code",
   "execution_count": 6,
   "id": "9de29f8e-ab20-430b-9e2f-8f9fc697233b",
   "metadata": {},
   "outputs": [
    {
     "name": "stdout",
     "output_type": "stream",
     "text": [
      "w_init shape: (4,), b_init type: <class 'float'>\n"
     ]
    }
   ],
   "source": [
    "b_init = 785.1811367994083\n",
    "w_init = np.array([ 0.39133535, 18.75376741, -53.36032453, -26.42131618])\n",
    "print(f\"w_init shape: {w_init.shape}, b_init type: {type(b_init)}\")"
   ]
  },
  {
   "cell_type": "code",
   "execution_count": 7,
   "id": "e77952a1-21fd-44dd-a3c1-3e1785657efa",
   "metadata": {},
   "outputs": [],
   "source": [
    "def predict_single_loop(x, w, b):\n",
    "    n = x.shape[0]\n",
    "    p = 0\n",
    "    for i in range(n):\n",
    "        p_i = x[i] * w[i]\n",
    "        p = p + p_i\n",
    "    p = p + b\n",
    "    return p"
   ]
  },
  {
   "cell_type": "code",
   "execution_count": 8,
   "id": "be09ecf1-ad68-44b6-9847-bba0ef815beb",
   "metadata": {},
   "outputs": [
    {
     "name": "stdout",
     "output_type": "stream",
     "text": [
      "x_vec shape: (4,), x_vec value: [2104    5    1   45]\n",
      "f_wb shape (), prediction: 459.9999976194083\n"
     ]
    }
   ],
   "source": [
    "x_vec = X_train[0,:]\n",
    "print(f\"x_vec shape: {x_vec.shape}, x_vec value: {x_vec}\")\n",
    "\n",
    "f_wb = predict_single_loop(x_vec, w_init, b_init)\n",
    "print(f\"f_wb shape {f_wb.shape}, prediction: {f_wb}\")"
   ]
  },
  {
   "cell_type": "code",
   "execution_count": 9,
   "id": "2f0e6b2b-4249-482a-bf43-ca3ef5930a5b",
   "metadata": {},
   "outputs": [],
   "source": [
    "def compute_cost(X, y, w, b):\n",
    "    m = X.shape[0]\n",
    "    cost = 0.0\n",
    "    for i in range(m):\n",
    "        f_wb_i = np.dot(X[i], w) + b\n",
    "        cost = cost + (f_wb_i - y[i]) ** 2\n",
    "    cost = cost / (2 * m)\n",
    "    return cost"
   ]
  },
  {
   "cell_type": "code",
   "execution_count": 11,
   "id": "982f05c1-1c10-43b8-b627-c10a4ad71169",
   "metadata": {},
   "outputs": [
    {
     "name": "stdout",
     "output_type": "stream",
     "text": [
      "Cost at optimal w: 1.5578904428966628e-12\n"
     ]
    }
   ],
   "source": [
    "cost = compute_cost(X_train, y_train, w_init, b_init)\n",
    "print(f\"Cost at optimal w: {cost}\")"
   ]
  },
  {
   "cell_type": "markdown",
   "id": "b9e4e0c1-1aca-4254-84fc-667283fa6c01",
   "metadata": {},
   "source": [
    "**Expected Result**: Cost at optimal w : 1.5578904045996674e-12"
   ]
  },
  {
   "cell_type": "code",
   "execution_count": 21,
   "id": "ba8d84e6-a971-4e12-b2d9-6ec343a487cb",
   "metadata": {},
   "outputs": [],
   "source": [
    "def compute_gradient(X, y, w, b):\n",
    "    m, n = X.shape\n",
    "    dj_dw = np.zeros((n,))\n",
    "    dj_db = 0.\n",
    "    \n",
    "    for i in range(m):\n",
    "        err = (np.dot(X[i], w) + b) - y[i]\n",
    "        for j in range(n):\n",
    "            dj_dw[j] = dj_dw[j] + err * X[i, j]\n",
    "        dj_db = dj_db + err\n",
    "    dj_dw = dj_dw / m\n",
    "    dj_db = dj_db /m\n",
    "    return dj_db, dj_dw"
   ]
  },
  {
   "cell_type": "code",
   "execution_count": 22,
   "id": "8cbba906-6a36-4c81-9a3a-9bac85428aa8",
   "metadata": {},
   "outputs": [
    {
     "name": "stdout",
     "output_type": "stream",
     "text": [
      "dj_db at initial w,b: -1.6739251501955248e-06\n",
      "dj_dw at initial w,b: [-2.73e-03 -6.27e-06 -2.22e-06 -6.92e-05]\n"
     ]
    }
   ],
   "source": [
    "tmp_dj_db, tmp_dj_dw = compute_gradient(X_train, y_train, w_init, b_init)\n",
    "\n",
    "print(f\"dj_db at initial w,b: {tmp_dj_db}\")\n",
    "print(f\"dj_dw at initial w,b: {tmp_dj_dw}\")"
   ]
  },
  {
   "cell_type": "markdown",
   "id": "f040799a-da5a-478f-82cd-b75a03034d2a",
   "metadata": {},
   "source": [
    "**Expected Result**:   \n",
    "dj_db at initial w,b: -1.6739251122999121e-06  \n",
    "dj_dw at initial w,b:   \n",
    " [-2.73e-03 -6.27e-06 -2.22e-06 -6.92e-05]  "
   ]
  },
  {
   "cell_type": "code",
   "execution_count": 23,
   "id": "903087db-1072-469a-a49e-97fa3654642d",
   "metadata": {},
   "outputs": [],
   "source": [
    "def gradient_descent(X, y, w_in, b_in, cost_funtion, gradient_function, alpha, num_iters):\n",
    "    J_history = []\n",
    "    w = copy.deepcopy(w_in)\n",
    "    b = b_in\n",
    "    \n",
    "    for i in range(num_iters):\n",
    "        dj_db, dj_dw = gradient_descent(X, y, w, b)\n",
    "        \n",
    "        w = w - alpha * dj_dw\n",
    "        b = b - alpha * dj_db\n",
    "        \n",
    "        if i<100000:\n",
    "            J_history.append(cost_function(X, y, w, b))\n",
    "            \n",
    "        if i % math.ceil(num_iters / 10) == 0:\n",
    "            print(f\"Iteration {i:4d} : Cost {J_history[-1]:8.2f}\")\n",
    "    return w, b, J_history"
   ]
  },
  {
   "cell_type": "code",
   "execution_count": null,
   "id": "23104887-05b4-4d1b-94c0-649383915dd1",
   "metadata": {},
   "outputs": [],
   "source": []
  }
 ],
 "metadata": {
  "kernelspec": {
   "display_name": "Python 3 (ipykernel)",
   "language": "python",
   "name": "python3"
  },
  "language_info": {
   "codemirror_mode": {
    "name": "ipython",
    "version": 3
   },
   "file_extension": ".py",
   "mimetype": "text/x-python",
   "name": "python",
   "nbconvert_exporter": "python",
   "pygments_lexer": "ipython3",
   "version": "3.9.0"
  }
 },
 "nbformat": 4,
 "nbformat_minor": 5
}
