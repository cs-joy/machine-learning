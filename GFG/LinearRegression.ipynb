{
 "cells": [
  {
   "cell_type": "code",
   "execution_count": 1,
   "id": "d35c4b78-99c0-4a9d-bf94-ef02e5f6d568",
   "metadata": {},
   "outputs": [],
   "source": [
    "import pandas as pd\n",
    "import numpy as np\n",
    "import matplotlib.pyplot as plt\n",
    "import matplotlib.axes as ax"
   ]
  },
  {
   "cell_type": "code",
   "execution_count": 2,
   "id": "122249a4-bd9f-4781-9a14-46a630b01959",
   "metadata": {},
   "outputs": [],
   "source": [
    "data = pd.read_csv('data.csv')\n",
    " \n",
    "# Drop the missing values\n",
    "data = data.dropna()\n",
    " \n",
    "# training dataset and labels\n",
    "train_input = np.array(data.x[0:500]).reshape(500,1)\n",
    "train_output  = np.array(data.y[0:500]).reshape(500,1)\n",
    " \n",
    "# valid dataset and labels\n",
    "test_input = np.array(data.x[500:700]).reshape(199,1)\n",
    "test_output  = np.array(data.y[500:700]).reshape(199,1)"
   ]
  },
  {
   "cell_type": "code",
   "execution_count": 3,
   "id": "1bb4ea3e-d5fb-49b3-826e-eeb5d892b71d",
   "metadata": {},
   "outputs": [],
   "source": [
    "class LinearRegression:\n",
    "\tdef __init__(self):\n",
    "\t\tself.parameters = {}\n",
    "\t\n",
    "\tdef forward_propagation(self, train_input):\n",
    "\t\tm = self.parameters['m']\n",
    "\t\tc = self.parameters['c']\n",
    "\t\tpredictions = np.multiply(m, train_input) + c\n",
    "\t\treturn predictions\n",
    "\n",
    "\tdef cost_function(self, predictions, train_output):\n",
    "\t\tcost = np.mean((train_output - predictions) ** 2)\n",
    "\t\treturn cost\n",
    "\n",
    "\tdef backward_propagation(self, train_input, train_output, predictions):\n",
    "\t\tderivatives = {}\n",
    "\t\tdf = (train_output - predictions) * -1\n",
    "\t\tdm = np.mean(np.multiply(train_input, df))\n",
    "\t\tdc = np.mean(df)\n",
    "\t\tderivatives['dm'] = dm\n",
    "\t\tderivatives['dc'] = dc\n",
    "\t\treturn derivatives\n",
    "\n",
    "\tdef update_parameters(self, derivatives, learning_rate):\n",
    "\t\tself.parameters['m'] = self.parameters['m'] - learning_rate * derivatives['dm']\n",
    "\t\tself.parameters['c'] = self.parameters['c'] - learning_rate * derivatives['dc']\n",
    "\n",
    "\tdef train(self, train_input, train_output, learning_rate, iters):\n",
    "\t\t#initialize random parameters\n",
    "\t\tself.parameters['m'] = np.random.uniform(0,1) * -1\n",
    "\t\tself.parameters['c'] = np.random.uniform(0,1) * -1\n",
    "\t\t\n",
    "\t\t#initialize loss\n",
    "\t\tself.loss = []\n",
    "\t\t\n",
    "\t\t#iterate\n",
    "\t\tfor i in range(iters):\n",
    "\t\t\t#forward propagation\n",
    "\t\t\tpredictions = self.forward_propagation(train_input)\n",
    "\n",
    "\t\t\t#cost function\n",
    "\t\t\tcost = self.cost_function(predictions, train_output)\n",
    "\n",
    "\t\t\t#append loss and print\n",
    "\t\t\tself.loss.append(cost)\n",
    "\t\t\tprint(\"Iteration = {}, Loss = {}\".format(i+1, cost))\n",
    "\n",
    "\t\t\t#back propagation\n",
    "\t\t\tderivatives = self.backward_propagation(train_input, train_output, predictions)\n",
    "\n",
    "\t\t\t#update parameters\n",
    "\t\t\tself.update_parameters(derivatives, learning_rate)\n",
    "\n",
    "\t\treturn self.parameters, self.loss\n"
   ]
  },
  {
   "cell_type": "code",
   "execution_count": 4,
   "id": "5d28f0ca-28de-43f0-bbc1-9dbfd5ddeb37",
   "metadata": {},
   "outputs": [
    {
     "name": "stdout",
     "output_type": "stream",
     "text": [
      "Iteration = 1, Loss = 4590.731270004406\n",
      "Iteration = 2, Loss = 2087.0964480234766\n",
      "Iteration = 3, Loss = 951.1945559533248\n",
      "Iteration = 4, Loss = 435.83460914106644\n",
      "Iteration = 5, Loss = 202.01523023015847\n",
      "Iteration = 6, Loss = 95.93111882203999\n",
      "Iteration = 7, Loss = 47.80063976479443\n",
      "Iteration = 8, Loss = 25.96378789698209\n",
      "Iteration = 9, Loss = 16.05638380893123\n",
      "Iteration = 10, Loss = 11.561383392116658\n",
      "Iteration = 11, Loss = 9.521996515953898\n",
      "Iteration = 12, Loss = 8.596724223134096\n",
      "Iteration = 13, Loss = 8.17692695082671\n",
      "Iteration = 14, Loss = 7.986464255221258\n",
      "Iteration = 15, Loss = 7.900050911096385\n",
      "Iteration = 16, Loss = 7.860844872998096\n",
      "Iteration = 17, Loss = 7.843056841943306\n",
      "Iteration = 18, Loss = 7.834986184418102\n",
      "Iteration = 19, Loss = 7.831324310037125\n",
      "Iteration = 20, Loss = 7.8296627054625105\n"
     ]
    }
   ],
   "source": [
    "linear_reg = LinearRegression()\n",
    "parameters, loss = linear_reg.train(train_input, train_output, 0.0001, 20)"
   ]
  },
  {
   "cell_type": "code",
   "execution_count": null,
   "id": "34879e66-262b-4fcc-94ea-f77b5770e81a",
   "metadata": {},
   "outputs": [],
   "source": []
  }
 ],
 "metadata": {
  "kernelspec": {
   "display_name": "Python 3 (ipykernel)",
   "language": "python",
   "name": "python3"
  },
  "language_info": {
   "codemirror_mode": {
    "name": "ipython",
    "version": 3
   },
   "file_extension": ".py",
   "mimetype": "text/x-python",
   "name": "python",
   "nbconvert_exporter": "python",
   "pygments_lexer": "ipython3",
   "version": "3.9.0"
  }
 },
 "nbformat": 4,
 "nbformat_minor": 5
}
